{
 "cells": [
  {
   "cell_type": "code",
   "execution_count": 1,
   "id": "90e2f405",
   "metadata": {},
   "outputs": [],
   "source": [
    "# ************************************************\n",
    "# CREDIT CARD FRAUD DETECTION \n",
    "# - EDA, Preparing data for modeling, Predict using Models ,Results\n",
    "#\n",
    "# Based on real-world dataset\n",
    "#\n",
    "# DATE: 1st November 2022\n",
    "# VERSION: v1.6\n",
    "# AUTHOR: Adarsh Manoj,Piyush Patel,Abubakar Sani,Ramandeep Singh\n",
    "#\n",
    "#\n",
    "# UPDATE\n",
    "# 1.0 - 1/11/2022 -  Initial Version\n",
    "# 1.1  - 8/11/2022 -  EDA\n",
    "# 1.2  - 13/11/2022 - Pre Processing\n",
    "# 1.3  - 16/11/2022 - Modeling\n",
    "# 1.4  - 22/11/2022 - Tuning\n",
    "# 1.5  - 24/11/2022 - Results\n",
    "# 1.6  - 26/11/2022 - Final Changes and Commenting\n",
    "# ************************************************"
   ]
  },
  {
   "cell_type": "code",
   "execution_count": 2,
   "id": "f6e2ba91",
   "metadata": {},
   "outputs": [],
   "source": [
    "# clearing all global environment variables\n",
    "rm(list=ls())"
   ]
  },
  {
   "cell_type": "code",
   "execution_count": 3,
   "id": "ac2f035c",
   "metadata": {},
   "outputs": [],
   "source": [
    "#Constant Varibles:\n",
    "DATASET<-\"creditcard.csv\"    #name of dataset on which we will be working\n",
    "\n",
    "HOLDOUT<-0.7  #% split of Training Data\n",
    "SAMPLINGP<-0.5 # p value used in sampling\n",
    "\n",
    "DISCRETE_BINS<-50 # no. of empty bins to determine discrete\n",
    "\n",
    "CLASSTRUE<-1 # Class variable 1\n",
    "CLASSFALSE<-0 # Class varibale 0\n",
    "\n",
    "KFOLDNUMBER<-10 # folds for cross validation\n",
    "\n",
    "#Defining Global Variables\n",
    "Global_df<-NULL\n",
    "Global_test<-NULL\n",
    "Global_train<-NULL"
   ]
  },
  {
   "cell_type": "code",
   "execution_count": 4,
   "id": "1e59c31d",
   "metadata": {},
   "outputs": [],
   "source": [
    "#*********************************************************\n",
    "#Define the libraries used in this project\n",
    "# Library from CRAN          Version\n",
    "#  dplyr                     1.0.10\n",
    "#  ggplot2                   3.4.0\n",
    "#  ROSE                      0.0-4\n",
    "#  e1071                     1.7-12\n",
    "#  caret                     6.0-93\n",
    "#  rpart                     4.1.19\n",
    "#  PRROC                     1.3.1              \n",
    "#  reshape2                  1.4.4\n",
    "#  pacman                    0.5.1\n"
   ]
  },
  {
   "cell_type": "code",
   "execution_count": 5,
   "id": "b4ad3254",
   "metadata": {},
   "outputs": [],
   "source": [
    "# ***********************************\n",
    "#installLoadLibraries() : loading all the relevant Packages\n",
    "# INPUT  : NONE\n",
    "# OUPUT  : NONE\n",
    "#\n",
    "#**********************************\n",
    "installLoadLibraries<-function(){\n",
    "    #Libraries used in this project\n",
    "    MYLIBRARIES<-c(\"dplyr\",\"ggplot2\",\"ROSE\",\"e1071\",\"caret\",\"rpart\",\"PRROC\",\"reshape2\")\n",
    "    \n",
    "    #installing pacman for managing packages\n",
    "    install.packages(\"pacman\",dependencies=TRUE)\n",
    "    \n",
    "    #installation and loading of packages\n",
    "    library(pacman)\n",
    "    pacman::p_load(char=MYLIBRARIES,install=TRUE,character.only=TRUE)\n",
    "    print(\" Libraries Loaded Succesfully Loaded \")\n",
    "    \n",
    "}"
   ]
  },
  {
   "cell_type": "code",
   "execution_count": 6,
   "id": "803afd54",
   "metadata": {},
   "outputs": [],
   "source": [
    "# Get the versions of all packages  \n",
    "#sessionInfo()"
   ]
  },
  {
   "cell_type": "code",
   "execution_count": 7,
   "id": "b40495c2",
   "metadata": {},
   "outputs": [],
   "source": [
    "# ***********************************\n",
    "#readDataSet(filename) : loading the data file\n",
    "# INPUT  : File Name\n",
    "# OUPUT  : DataFrame Cotaining data\n",
    "#\n",
    "#**********************************\n",
    "readDataSet<-function(filename){\n",
    "    df<-read.csv(filename,header=TRUE)\n",
    "    print(paste(\" Dataset \",filename,\" Succesfully Loaded \",\"with \",nrow(df),\" rows \",\"and \",ncol(df),\" columns\"))\n",
    "    return(df)\n",
    "}"
   ]
  },
  {
   "cell_type": "code",
   "execution_count": 8,
   "id": "2e759bd5",
   "metadata": {},
   "outputs": [],
   "source": [
    "# ********************** **************************\n",
    "# mainEDA() :entry point EDA Credit Card Fraud Detection\n",
    "# INPUT: None\n",
    "# OUTPUT :None\n",
    "# ************************************************\n",
    " \n",
    "#This keeps all variables as local to this function\n",
    "mainEDA<-function(){\n",
    "    #Get data types\n",
    "    str(Global_df)\n",
    "    \n",
    "    #Statistics of data\n",
    "    summary(df)\n",
    "    \n",
    "    #Total fraud and non-fraud transactions\n",
    "    totalFraud<-sum(Global_df$Class)\n",
    "    totalNonFraud<-sum(Global_df$Class==CLASSFALSE)\n",
    "    print(paste(\"Fraud = \",totalFraud))\n",
    "    print(paste(\"Non Fraud = \",totalNonFraud))\n",
    "    \n",
    "    \n",
    "    Amount<-Global_df$Amount\n",
    "    Time<-Global_df$Time\n",
    "    Amount<-data.frame(Amount)\n",
    "    Time<-data.frame(Time)\n",
    "    \n",
    "    #seperating dataframe for fraud and non fraud transaction\n",
    "    non_fraud <- Global_df %>% filter(Class == CLASSFALSE)\n",
    "    df_fraud <- Global_df %>% filter(Class == CLASSTRUE)\n",
    "    \n",
    "    writeLines(\"\\n\\n\")\n",
    "    #Plotting fraud and non fraud transactions\n",
    "    Class<-Global_df$Class\n",
    "    Class<-data.frame(Class)\n",
    "    \n",
    "    writeLines(\"\\n\\n\")\n",
    "    print(ggplot(Class,aes(x=Class))+geom_bar()+labs(x = \"Fraud and Non-Fraud Class\",y = \"Total No. of Transaction\",title= \"Distribution of Class\"))\n",
    "    \n",
    "    #analysis of target variable\n",
    "    targetVariableAnalysis()\n",
    "    \n",
    "    #check whether data is discrete or continuous\n",
    "    \n",
    "    #correlation Matrix\n",
    "    correlationMatrix()\n",
    "    \n",
    "    #other graphs\n",
    "    writeLines(\"\\n\\n Plotting the Graph Fraud against Amount\")\n",
    "    #plot the graph of fraud against amount\n",
    "    print(ggplot(df_fraud,aes(Amount))+geom_histogram(bin=DISCRETE_BINS))\n",
    "    \n",
    "    \n",
    "    writeLines(\"\\n\\n Plotting the Graph Non-Fraud against Amount\")\n",
    "    #plot the graph of non fraud against amount\n",
    "    print(ggplot(non_fraud,aes(Amount))+geom_histogram(bin=DISCRETE_BINS))\n",
    "    \n",
    "    writeLines(\"\\n\\n Plotting the Fraud Transactions against Amount\")\n",
    "    #plotting the graph for fraud transaction against time and amount\n",
    "    print(ggplot(df_fraud, aes(x=Time,y=Amount))+geom_point())\n",
    "    \n",
    "    writeLines(\"\\n\\n Plotting the Non-Fraud Transactions against Amount\")\n",
    "    #plotting the graph for non fraud transaction against time and amount\n",
    "    print(ggplot(non_fraud, aes(x=Time,y=Amount))+geom_point())\n",
    "    \n",
    "    \n",
    "    \n",
    "    } # endof mainEDA()"
   ]
  },
  {
   "cell_type": "code",
   "execution_count": 9,
   "id": "10cfb2da",
   "metadata": {},
   "outputs": [],
   "source": [
    "# ********************** **************************\n",
    "# targetVariableAnalysis() :Analysis of Target Variable used in EDA\n",
    "# INPUT: None\n",
    "# OUTPUT :None\n",
    "# ************************************************\n",
    "\n",
    "#plotting the Amount variable\n",
    "targetVariableAnalysis<-function(){\n",
    "    \n",
    "    \n",
    "    Amount<-Global_df$Amount\n",
    "    Time<-Global_df$Time\n",
    "    Amount<-data.frame(Amount)\n",
    "    Time<-data.frame(Time)\n",
    "    \n",
    " \n",
    "    \n",
    "    writeLines(\"\\n Summary of Amount \\n\")\n",
    "    summary(Amount)\n",
    "\n",
    "    writeLines(\"\\nNow we are gonna plot the Amount variable to check for distribution\\n\")\n",
    "    print(ggplot(Amount,aes(Amount))+geom_histogram(bins=DISCRETE_BINS)+labs(x = \"Amount in $ \",y = \"Frequency\",title= \"Distribution of Transaction Amount\"))\n",
    "\n",
    "    writeLines(\"\\nWe see that the data is skewed towards left side, but we need a normalised data.\\n\")\n",
    "    print(ggplot(Amount,aes(Amount)) +geom_histogram(bins=DISCRETE_BINS)+scale_x_log10() +labs(x = \"Amount in $ \",y = \"Frequency\",title= \"Distribution of Transaction Amount\"))\n",
    "    \n",
    "    \n",
    "    #check whether data is discrete or continuous\n",
    "    \n",
    "    writeLines(\"\\nPlot the data of Time distribution\\n\")\n",
    "    print(ggplot(Time)+geom_qq(aes(sample=Time))+labs(x = \"Time interval \",y = \"Frequency\",title= \"Time Distribution\"))\n",
    "\n",
    "  \n",
    "    \n",
    "}# endof targetVariableAnalysis()"
   ]
  },
  {
   "cell_type": "code",
   "execution_count": 10,
   "id": "63b06fbf",
   "metadata": {},
   "outputs": [],
   "source": [
    "# ********************** ********************************************\n",
    "# CorrelationMatrix() :Correlation Matrix of the dataset used in EDA\n",
    "# INPUT: None\n",
    "# OUTPUT :None\n",
    "# ********************************************************************\n",
    "correlationMatrix<-function(){\n",
    "    #HeatMaps\n",
    "    #Preparing the data\n",
    "    #correlation Matrix\n",
    "    corrmatrix<-round(cor(Global_df),2)\n",
    " \n",
    "    #melted Correaltion matrix\n",
    "    meltedcorrmat<-melt(corrmatrix)\n",
    "\n",
    "    #print Melted Correaltion matrix\n",
    "    head(meltedcorrmat)\n",
    "\n",
    "    #we will try to find the pairs having coeficient greater than 0.5\n",
    "    df_corr<-data.frame(corrmatrix)\n",
    "    df_corr[(abs(df_corr) >= 0.5) & (abs(df_corr) !=1)]\n",
    "    \n",
    "    \n",
    "    #Plotting the correlation matrix\n",
    "    \n",
    "    writeLines(\"\\nCorrelation Matrix\\n\")\n",
    "    print(ggplot(data = meltedcorrmat, aes(Var2, Var1, fill = value))+geom_tile(color = \"white\")+scale_fill_gradient2(low = \"blue\", high = \"red\", mid = \"white\", midpoint = 0, limit = c(-1,1), space = \"Lab\", name=\"Correlation\") +theme_minimal()+ theme(axis.text.x = element_text(angle = 45, vjust = 1, size = 12, hjust = 1))+coord_fixed()+geom_text(aes(Var2, Var1, label = value),color = \"black\", size = 2))\n",
    "\n",
    "    \n",
    "    \n",
    "    \n",
    "}# end of correlationMatrix()"
   ]
  },
  {
   "cell_type": "code",
   "execution_count": 11,
   "id": "19f2daa0",
   "metadata": {},
   "outputs": [],
   "source": [
    "# ********************** **************************\n",
    "# dataAfterSampling() :Checking the data after sampling used in Pre-Processing\n",
    "# INPUT: sampledData: Sampled Data Frame \n",
    "# OUTPUT :None\n",
    "# ************************************************\n",
    "\n",
    "#plotting the Amount variable\n",
    "dataAfterSampling<-function(sampledData){\n",
    "    \n",
    "    data_balanced<-sampledData\n",
    "    ## Check class distribution after sampling\n",
    "    \n",
    "    data_balanced %>% group_by(Class) %>%\n",
    "    summarise(cnt = n()) %>%\n",
    "    mutate(freq = round(cnt / sum(cnt), 5)) %>% \n",
    "    arrange(desc(freq))\n",
    "    \n",
    "    \n",
    "    \n",
    "    \n",
    "    \n",
    "}# end of dataAfterSampling()"
   ]
  },
  {
   "cell_type": "code",
   "execution_count": 12,
   "id": "e3db586f",
   "metadata": {},
   "outputs": [],
   "source": [
    "# ********************** **************************\n",
    "# dataSampling() :Using Sampling for class balance used in Pre-Processing\n",
    "# INPUT: None\n",
    "# OUTPUT :Sampled Data\n",
    "# ************************************************\n",
    "\n",
    "#plotting the Amount variable\n",
    "dataSampling<-function(){\n",
    "    ## now using ROSE for sampling\n",
    "    sampledData<- ovun.sample(Class ~., data=Global_df,p=SAMPLINGP, seed=1,method=\"over\")\n",
    "    df<-sampledData$data\n",
    "    return(df)\n",
    "}# end of dataSampling()"
   ]
  },
  {
   "cell_type": "code",
   "execution_count": 13,
   "id": "06a000ec",
   "metadata": {},
   "outputs": [],
   "source": [
    "# ************************************************\n",
    "# removeDuplicateRows() :Removing the duplicate rows from the data frame\n",
    "# INPUT: None\n",
    "# OUTPUT :Data with duplicate rows removed\n",
    "# ************************************************\n",
    "removeDuplicateRows<-function(){\n",
    "    \n",
    "# Check for duplicate rows and removing them\n",
    "    df<-Global_df[!duplicated(Global_df),]\n",
    "    duplicateRows<-284807-nrow(df)                      \n",
    "    writeLines(paste(\"\\n\\nTotal Number of Duplicate Rows Removed : \",duplicateRows))\n",
    "    return(df)\n",
    "}# end of removeDuplicateRows()"
   ]
  },
  {
   "cell_type": "code",
   "execution_count": 14,
   "id": "ece57319",
   "metadata": {},
   "outputs": [],
   "source": [
    "# ********************** **************************\n",
    "# mainPreProcessing() :Pre-Processing of Data\n",
    "# INPUT: None\n",
    "# OUTPUT :None\n",
    "# ************************************************\n",
    " \n",
    "#This keeps all variables as local to this function\n",
    "mainPreProcessing<-function(){\n",
    "    head(Global_df)\n",
    "    \n",
    "    \n",
    "    #Checking for any null values\n",
    "    sm<-sum(is.null(df))\n",
    "    writeLines(paste(\"\\n\\nTotal Number of Null Values = \",sm))\n",
    "    \n",
    "    #removing all the duplicate values\n",
    "    df<-removeDuplicateRows()          \n",
    "    \n",
    "    \n",
    "               \n",
    "    #scale for feature engineering\n",
    "    Global_df$Amount<-scale(Global_df$Amount)\n",
    "    \n",
    "    \n",
    "    #sampling\n",
    "    df<-dataSampling()\n",
    "    \n",
    "    #results of sampling\n",
    "    dataAfterSampling(df)\n",
    "    \n",
    "    #Setting Target Variable to factor\n",
    "    df$Class <- as.factor(df$Class)\n",
    "    \n",
    "    #Assigning sampled data to Global Data\n",
    "    Global_df<<-df\n",
    "    \n",
    "    #reducing Dimentionality\n",
    "    mainDimReduction()\n",
    "    \n",
    "    \n",
    "} # endof mainPreProcessing()"
   ]
  },
  {
   "cell_type": "code",
   "execution_count": 15,
   "id": "b1c0a68f",
   "metadata": {},
   "outputs": [],
   "source": [
    "#***********************************************************************\n",
    "# pcaCharts(X): PCA attempts to find the charts of principal components (or features) as its names denote.\n",
    "#\n",
    "# INPUT : Class variable\n",
    "#\n",
    "# OUTPUT : charts of Proportions of variance w.r.t Principle Components\n",
    "#\n",
    "# *************************************************************************\n",
    "# Function to check Variance explained\n",
    "pcaCharts <- function(x) {\n",
    "    x.var <- x$sdev ^ 2\n",
    "    x.pvar <- x.var/sum(x.var)\n",
    "    print(\"proportions of variance:\")\n",
    "    print(x.pvar)\n",
    "    \n",
    "    par(mfrow=c(2,2))\n",
    "    plot(x.pvar,\n",
    "         xlab=\"Principal component\", \n",
    "         ylab=\"Proportion of variance explained\", \n",
    "         ylim=c(0,1), type='b')\n",
    "    plot(cumsum(x.pvar),\n",
    "         xlab=\"Principal component\", \n",
    "         ylab=\"Cumulative Proportion of variance explained\", \n",
    "         ylim=c(0,1), type='b')\n",
    "    screeplot(x)\n",
    "    screeplot(x,type=\"l\")\n",
    "    par(mfrow=c(1,1))\n",
    "    \n",
    "}# end of PcaCharts()"
   ]
  },
  {
   "cell_type": "code",
   "execution_count": null,
   "id": "3851d608",
   "metadata": {},
   "outputs": [],
   "source": []
  },
  {
   "cell_type": "code",
   "execution_count": 16,
   "id": "ba016b4c",
   "metadata": {},
   "outputs": [],
   "source": [
    "# ********************** **************************\n",
    "# mainDimReduction() :Dimensionality Reduction \n",
    "# INPUT: None\n",
    "# OUTPUT :None\n",
    "# ************************************************\n",
    " \n",
    "#This keeps all variables as local to this function\n",
    "mainDimReduction<-function(){\n",
    "    \n",
    "    \n",
    "    # Seperating features from target variable\n",
    "    X <- subset(Global_df, select = -c(Class)) \n",
    "    \n",
    "    #error here \n",
    "    #Error in subset.default(df, select = -c(Class)): argument \"subset\" is missing, with no default\n",
    "\n",
    "\n",
    "    \n",
    "    \n",
    "    #reducing dim of Class with PCA\n",
    "    pca <- prcomp(X, scale. = TRUE)\n",
    "    pcaCharts(pca)\n",
    "    \n",
    "    # Calculate Explained Variance\n",
    "    pca_var <- round((pca$sdev^2)/sum(pca$sdev^2) * 100, 1) \n",
    "    n_pc <- seq(1, length(pca_var))\n",
    "    pca_df <- data.frame(pca_var, n_pc)\n",
    "\n",
    "    #Graph of explained variance\n",
    "    pca_df %>% ggplot(aes(x = n_pc, y = pca_var)) +geom_bar(stat = 'identity') +labs(title = \"PCA Variation Plot\",xlab = \"PCs\",ylab = \"Prop. of variance explained\",ylim = c(0, 100))\n",
    "    \n",
    "    \n",
    "    # SVD for dim reduction\n",
    "    svd <- svd(X)\n",
    "    \n",
    "    # Calculate Explained Variance\n",
    "    svd_var <- round(svd$d^2/sum(svd$d^2) * 100, 4) \n",
    "    n_pc <- seq(1, length(svd_var))\n",
    "    svd_df <- data.frame(svd_var, n_pc)\n",
    "\n",
    "    # Graph of explained variance\n",
    "    svd_df %>% ggplot(aes(x = n_pc, y = svd_var)) +geom_bar(stat = 'identity') +labs(title = \"SVD Variation Plot\",xlab = \"PCs\",ylab = \"Prop. of variance explained\",ylim = c(0, 100))\n",
    "    \n",
    "    # Consolodiating PCA transformed dataframe\n",
    "    X_pca <- as.data.frame(pca$x[, 1:5])\n",
    "    y <- subset(Global_df, select = c(Class))\n",
    "    df_pca <- cbind(X_pca, y)\n",
    "    \n",
    "    #Partitioning train-test split\n",
    "    index <- createDataPartition(y = df_pca$Class, p = HOLDOUT, times = 1, list = FALSE)\n",
    "    train <- df_pca[index,]\n",
    "    test  <- df_pca[-index,]\n",
    "    \n",
    "    #Assigning test and train data to Global test and Global test respectivly.\n",
    "    Global_test<<-test\n",
    "    Global_train<<-train\n",
    "    \n",
    "} # endof Dim Reduction()"
   ]
  },
  {
   "cell_type": "code",
   "execution_count": null,
   "id": "3ca9171c",
   "metadata": {},
   "outputs": [],
   "source": []
  },
  {
   "cell_type": "code",
   "execution_count": 17,
   "id": "3ae57e9a",
   "metadata": {},
   "outputs": [],
   "source": [
    "\n",
    "# ********************** **********************************\n",
    "# logisticTrain(train) :train the model using training data \n",
    "# INPUT: training data\n",
    "# OUTPUT :trained model\n",
    "# **********************************************************\n",
    "logisticTrain<-function(train){\n",
    "    \n",
    "    kfold_cv <- trainControl(method = \"cv\",  number = 3, savePredictions = T)\n",
    "    \n",
    "    logreg_model <- train(form=Class~., data = train,method=\"glm\", family=\"binomial\",trControl=kfold_cv, tuneLength=3)\n",
    "    print(summary(logreg_model))\n",
    "    return(logreg_model)\n",
    "    \n",
    "}# end of logisticTrain\n",
    "\n",
    "# ********************** **********************************\n",
    "# decisionTrain(train) :train the model using training data \n",
    "# INPUT: training data\n",
    "# OUTPUT :trained model\n",
    "# **********************************************************\n",
    "decisionTrain<-function(train){\n",
    "    tree <- rpart(Class ~ ., data = train, method = \"class\",control=rpart.control(xval=3))\n",
    "    print(summary(tree))\n",
    "    return(tree)\n",
    "}# end of decisionTrain\n",
    "\n",
    "# ********************** **********************************\n",
    "# randomForestTrain(train) :train the model using training data \n",
    "# INPUT: training data\n",
    "# OUTPUT :trained model\n",
    "# **********************************************************\n",
    "randomForestTrain<-function(train){\n",
    "   kfold_cv <- trainControl(method = \"cv\",  number = KFOLDNUMBER, savePredictions = T)\n",
    "    forest <- train(\n",
    "        \n",
    "        # Formula. We are using all variables to predict Species\n",
    "        Class~., \n",
    "        \n",
    "        # Source of data; remove the Species variable\n",
    "        data=train, \n",
    "        \n",
    "        # `rf` method for random forest\n",
    "        method='rf', \n",
    "        \n",
    "        #min tree\n",
    "        mtry=3,\n",
    "        \n",
    "        maxdepth=10,\n",
    "        \n",
    "        \n",
    "        # Add repeated cross validation as trControl\n",
    "        trControl=kfold_cv,\n",
    "        \n",
    "        # Accuracy to measure the performance of the model\n",
    "        metric='Accuracy')\n",
    "\n",
    "    \n",
    "    return(forest)\n",
    "} # end of randomForestTrain"
   ]
  },
  {
   "cell_type": "code",
   "execution_count": 18,
   "id": "67ff7223",
   "metadata": {},
   "outputs": [],
   "source": [
    "#\n",
    "# ********************** **************************\n",
    "# predictionTestLR(preds,test) :Predict the results using model and test data \n",
    "# INPUT: predictive Model,testing data\n",
    "# OUTPUT :NONE\n",
    "# ***********************************************\n",
    "predictionTestLR<-function(pred_model,test){\n",
    "    #logistic Regression    \n",
    "    preds <- predict(pred_model, test, type=\"prob\")[,2] #prob of positive class\n",
    "    return(preds)\n",
    "}# end of predictionTestLR()\n",
    "\n",
    "\n",
    "# ********************** **************************\n",
    "# predictionTestDT(preds,test) :Predict the results of Decision Tress using model and test data \n",
    "# INPUT: predictive Model,testing dat\n",
    "# OUTPUT :NONE\n",
    "# ***********************************************\n",
    "predictionTestDT<-function(pred_model,test){\n",
    "    pred <- predict(pred_model, test, type=\"class\")\n",
    "    return(pred)\n",
    "\n",
    "}# end of predictionTestDT()\n",
    "\n",
    "# ********************** **************************\n",
    "# predictionTestDT(preds,test) :Predict the results of Random Forest using model and test data \n",
    "# INPUT: predictive Model,testing data\n",
    "# OUTPUT :NONE\n",
    "# ***********************************************\n",
    "predictionTestRF<-function(pred_model,test){\n",
    "    pred <- predict(pred_model, test)\n",
    "    return(pred)\n",
    "} # end of predictionTestRF()"
   ]
  },
  {
   "cell_type": "code",
   "execution_count": 19,
   "id": "cdbd24ae",
   "metadata": {},
   "outputs": [],
   "source": [
    "#\n",
    "# ********************** **************************\n",
    "# predictionResultsLR(preds,test,modelName) :Display the results using model and test data \n",
    "# INPUT: predictive Model,testing data,model name\n",
    "# OUTPUT :NONE\n",
    "# ************************************************\n",
    "predictionResultsLR<-function(preds,test,modelName){\n",
    "    \n",
    "   \n",
    "    preds_pos <- preds[test[,6]==1] #preds for true positive class\n",
    "    preds_neg <- preds[test[,6]==0] #preds for true negative class\n",
    "   \n",
    "    writeLines(paste(\"\\n\\n ROC-AUC - \",modelName))\n",
    "    PRC <- pr.curve(preds_pos, preds_neg, curve=TRUE)\n",
    "    print(plot(PRC))\n",
    "    \n",
    "    \n",
    "    writeLines(paste(\"\\n\\nPrecision,Recall and F1-Score - \",modelName))\n",
    "    dt_db_test<- factor(ifelse(preds> 0.50,1,0))\n",
    "    \n",
    "    precision_dtdb <- posPredValue(dt_db_test,test$Class,positive = 1)\n",
    "    recall_dtdb <- sensitivity(dt_db_test,test$Class,positive = 1)\n",
    "    F1_dtdb <- (2 * precision_dtdb * recall_dtdb) / (precision_dtdb + recall_dtdb)\n",
    "    print(paste(\"Precsion : \",precision_dtdb))\n",
    "    print(paste(\"Recall : \",recall_dtdb))\n",
    "    print(paste(\"F1-Score : \",F1_dtdb))\n",
    "    \n",
    "    writeLines(paste(\"\\n\\nConfusion Matrix - \",modelName))\n",
    "    print(confusionMatrix(dt_db_test, test$Class, positive = '1'))\n",
    "    \n",
    "}# end of predictionResultsLR()\n",
    "\n",
    "# ********************** **************************\n",
    "# predictionResults(preds,test,modelName) :Predict the results using model and test data \n",
    "# INPUT: training data,testing data and Model name\n",
    "# OUTPUT :NONE\n",
    "# ************************************************\n",
    "\n",
    "predictionResults<-function(preds,test,modelName){\n",
    "    \n",
    "   \n",
    "    preds_pos <- preds[test[,6]==1] #preds for true positive class\n",
    "    preds_neg <- preds[test[,6]==0] #preds for true negative class\n",
    "   \n",
    "    writeLines(paste(\"\\n\\n ROC-AUC - \",modelName))\n",
    "    PRC <- pr.curve(preds_pos, preds_neg, curve=TRUE)\n",
    "    print(plot(PRC))\n",
    "    \n",
    "    \n",
    "    writeLines(paste(\"\\n\\nPrecision,Recall and F1-Score - \",modelName))\n",
    "    \n",
    "    \n",
    "    precision_dtdb <- posPredValue(preds,test$Class,positive = 1)\n",
    "    recall_dtdb <- sensitivity(preds,test$Class,positive = 1)\n",
    "    F1_dtdb <- (2 * precision_dtdb * recall_dtdb) / (precision_dtdb + recall_dtdb)\n",
    "    print(paste(\"Precsion : \",precision_dtdb))\n",
    "    print(paste(\"Recall : \",recall_dtdb))\n",
    "    print(paste(\"F1-Score : \",F1_dtdb))\n",
    "    \n",
    "    writeLines(paste(\"\\n\\nConfusion Matrix - \",modelName))\n",
    "    print(confusionMatrix(preds, test$Class, positive = '1'))\n",
    "} # end of predictionResults()"
   ]
  },
  {
   "cell_type": "code",
   "execution_count": null,
   "id": "339d4692",
   "metadata": {},
   "outputs": [],
   "source": [
    "  "
   ]
  },
  {
   "cell_type": "code",
   "execution_count": 20,
   "id": "3d604468",
   "metadata": {},
   "outputs": [],
   "source": [
    "#\n",
    "# ********************** **************************\n",
    "# modelDeclarationLR(train,test) :execute Logistic Regression Model \n",
    "# INPUT: training and testing data\n",
    "# OUTPUT :NONE\n",
    "# ************************************************\n",
    "modelDeclarationLR<-function(train,test){  \n",
    "            \n",
    "    logreg_model<-logisticTrain(train)\n",
    "    \n",
    "    predLR<-predictionTestLR(logreg_model,test)\n",
    "    \n",
    "    resultLR<-predictionResultsLR(predLR, test, \"Logistic Regression\")\n",
    "    \n",
    "} #modelDeclarationLR\n",
    "\n",
    "# ********************** **************************\n",
    "# modelDeclarationDT(train,test) : execute Decision Tress Model\n",
    "# INPUT: training and testing data\n",
    "# OUTPUT :NONE\n",
    "# ************************************************\n",
    "\n",
    "modelDeclarationDT<-function(train,test){\n",
    "    \n",
    "    decision_model<-decisionTrain(train)\n",
    "\n",
    "    predDT<-predictionTestDT(decision_model,test)\n",
    "\n",
    "    resultDT<-predictionResults(predDT, test, \"Decisition Tree\")\n",
    "    \n",
    "}# end of modelDeclarationDT\n",
    "\n",
    "# ********************** **************************\n",
    "# modelDeclarationRF(train,test) : execute Random Forest Model\n",
    "# INPUT: training and testing data\n",
    "# OUTPUT :NONE\n",
    "# ************************************************\n",
    "modelDeclarationRF<-function(train,test){\n",
    "    \n",
    "    random_forest_model<-randomForestTrain(train)\n",
    "    \n",
    "    predRF<-predictionTestRF(random_forest_model,test)\n",
    "    \n",
    "    resultRF<-predictionResults(predRF, test, \"Random Forest\")\n",
    "    \n",
    "}#end of modelDeclarationRF()"
   ]
  },
  {
   "cell_type": "code",
   "execution_count": 21,
   "id": "af6a3f2c",
   "metadata": {},
   "outputs": [],
   "source": [
    "# ********************** **************************\n",
    "# mainModeling() :entry point of Modeling Credit Card Fraud Detection\n",
    "# INPUT: None\n",
    "# OUTPUT :None\n",
    "# ************************************************\n",
    " \n",
    "#This keeps all variables as local to this function\n",
    "mainModeling<-function(){\n",
    "    \n",
    "   \n",
    "    \n",
    "    \n",
    "    test<-Global_test\n",
    "    train<-Global_train\n",
    "    test<-data.frame(test)\n",
    "    train<-data.frame(train)\n",
    "    \n",
    "    modelDeclarationLR(train,test)\n",
    "    modelDeclarationDT(train,test)\n",
    "    #modelDeclarationRF(train,test)\n",
    "    \n",
    "    \n",
    "}# end of mainModeling()\n"
   ]
  },
  {
   "cell_type": "code",
   "execution_count": 22,
   "id": "eb57314d",
   "metadata": {},
   "outputs": [],
   "source": [
    "# ********************** **************************\n",
    "# mainPerformanceEvaluation() :Model Perfromance using Precision Recall and F1 score\n",
    "# INPUT: None\n",
    "# OUTPUT :None\n",
    "# ************************************************\n",
    " \n",
    "#This keeps all variables as local to this function\n",
    "mainPerformanceEvaluation<-function(){\n",
    "    #K-fold cross validation\n",
    "   \n",
    "precision_both <- posPredValue(dt_dbsmote_test,test$Class,positive = \"yes\")\n",
    "recall_both <- sensitivity(dt_dbsmote_test,test$class,positive = \"yes\")\n",
    "F1_both <- (2 * precision_dtdbsmote * recall_dtdbsmote) / (precision_dtdbsmote + recall_dtdbsmote)\n",
    "} # endof mainPerformanceEvaluation()"
   ]
  },
  {
   "cell_type": "code",
   "execution_count": 23,
   "id": "8f61a07c",
   "metadata": {},
   "outputs": [],
   "source": [
    "# ********************** **************************\n",
    "# mainResults() :entry point to execute the ML data analytics\n",
    "# INPUT: None\n",
    "# OUTPUT :None\n",
    "# ************************************************\n",
    " \n",
    "#This keeps all variables as local to this function\n",
    "mainResults<-function(){\n",
    "# AUC for each results \n",
    "} # endof mainResults()"
   ]
  },
  {
   "cell_type": "code",
   "execution_count": null,
   "id": "14c6088f",
   "metadata": {},
   "outputs": [],
   "source": [
    "# ************************************************\n",
    "#  Start of Running the functions to run the model\n",
    "# ************************************************"
   ]
  },
  {
   "cell_type": "code",
   "execution_count": 24,
   "id": "f26bbd1a",
   "metadata": {},
   "outputs": [
    {
     "name": "stderr",
     "output_type": "stream",
     "text": [
      "Installing package into 'C:/Users/639pi/AppData/Local/R/win-library/4.2'\n",
      "(as 'lib' is unspecified)\n",
      "\n"
     ]
    },
    {
     "name": "stdout",
     "output_type": "stream",
     "text": [
      "package 'pacman' successfully unpacked and MD5 sums checked\n",
      "\n",
      "The downloaded binary packages are in\n",
      "\tC:\\Users\\639pi\\AppData\\Local\\Temp\\RtmpwZao4n\\downloaded_packages\n",
      "[1] \" Libraries Loaded Succesfully Loaded \"\n"
     ]
    }
   ],
   "source": [
    " #LOAD LIBRARIES\n",
    "installLoadLibraries()"
   ]
  },
  {
   "cell_type": "code",
   "execution_count": 25,
   "id": "deb2debd",
   "metadata": {},
   "outputs": [
    {
     "name": "stdout",
     "output_type": "stream",
     "text": [
      "\n",
      "load Dataset\n",
      "\n",
      "[1] \" Dataset  creditcard.csv  Succesfully Loaded  with  284807  rows  and  31  columns\"\n"
     ]
    }
   ],
   "source": [
    "writeLines(\"\\nload Dataset\\n\") \n",
    "df<-readDataSet(DATASET)\n",
    "#Assigning global data variable\n",
    "Global_df<<-df"
   ]
  },
  {
   "cell_type": "code",
   "execution_count": 26,
   "id": "aa587825",
   "metadata": {},
   "outputs": [
    {
     "name": "stdout",
     "output_type": "stream",
     "text": [
      "\n",
      "Head DATA\n",
      "\n",
      "  Time         V1          V2        V3         V4          V5          V6\n",
      "1    0 -1.3598071 -0.07278117 2.5363467  1.3781552 -0.33832077  0.46238778\n",
      "2    0  1.1918571  0.26615071 0.1664801  0.4481541  0.06001765 -0.08236081\n",
      "3    1 -1.3583541 -1.34016307 1.7732093  0.3797796 -0.50319813  1.80049938\n",
      "4    1 -0.9662717 -0.18522601 1.7929933 -0.8632913 -0.01030888  1.24720317\n",
      "5    2 -1.1582331  0.87773675 1.5487178  0.4030339 -0.40719338  0.09592146\n",
      "6    2 -0.4259659  0.96052304 1.1411093 -0.1682521  0.42098688 -0.02972755\n",
      "           V7          V8         V9         V10        V11         V12\n",
      "1  0.23959855  0.09869790  0.3637870  0.09079417 -0.5515995 -0.61780086\n",
      "2 -0.07880298  0.08510165 -0.2554251 -0.16697441  1.6127267  1.06523531\n",
      "3  0.79146096  0.24767579 -1.5146543  0.20764287  0.6245015  0.06608369\n",
      "4  0.23760894  0.37743587 -1.3870241 -0.05495192 -0.2264873  0.17822823\n",
      "5  0.59294075 -0.27053268  0.8177393  0.75307443 -0.8228429  0.53819555\n",
      "6  0.47620095  0.26031433 -0.5686714 -0.37140720  1.3412620  0.35989384\n",
      "         V13        V14        V15        V16         V17         V18\n",
      "1 -0.9913898 -0.3111694  1.4681770 -0.4704005  0.20797124  0.02579058\n",
      "2  0.4890950 -0.1437723  0.6355581  0.4639170 -0.11480466 -0.18336127\n",
      "3  0.7172927 -0.1659459  2.3458649 -2.8900832  1.10996938 -0.12135931\n",
      "4  0.5077569 -0.2879237 -0.6314181 -1.0596472 -0.68409279  1.96577500\n",
      "5  1.3458516 -1.1196698  0.1751211 -0.4514492 -0.23703324 -0.03819479\n",
      "6 -0.3580907 -0.1371337  0.5176168  0.4017259 -0.05813282  0.06865315\n",
      "          V19         V20          V21          V22         V23         V24\n",
      "1  0.40399296  0.25141210 -0.018306778  0.277837576 -0.11047391  0.06692807\n",
      "2 -0.14578304 -0.06908314 -0.225775248 -0.638671953  0.10128802 -0.33984648\n",
      "3 -2.26185710  0.52497973  0.247998153  0.771679402  0.90941226 -0.68928096\n",
      "4 -1.23262197 -0.20803778 -0.108300452  0.005273597 -0.19032052 -1.17557533\n",
      "5  0.80348692  0.40854236 -0.009430697  0.798278495 -0.13745808  0.14126698\n",
      "6 -0.03319379  0.08496767 -0.208253515 -0.559824796 -0.02639767 -0.37142658\n",
      "         V25        V26          V27         V28 Amount Class\n",
      "1  0.1285394 -0.1891148  0.133558377 -0.02105305 149.62     0\n",
      "2  0.1671704  0.1258945 -0.008983099  0.01472417   2.69     0\n",
      "3 -0.3276418 -0.1390966 -0.055352794 -0.05975184 378.66     0\n",
      "4  0.6473760 -0.2219288  0.062722849  0.06145763 123.50     0\n",
      "5 -0.2060096  0.5022922  0.219422230  0.21515315  69.99     0\n",
      "6 -0.2327938  0.1059148  0.253844225  0.08108026   3.67     0\n"
     ]
    }
   ],
   "source": [
    "writeLines(\"\\nHead DATA\\n\")\n",
    "print(head(df))\n",
    "    "
   ]
  },
  {
   "cell_type": "code",
   "execution_count": 27,
   "id": "8a13dce2",
   "metadata": {},
   "outputs": [
    {
     "name": "stdout",
     "output_type": "stream",
     "text": [
      "\n",
      "EDA\n",
      "\n",
      "'data.frame':\t284807 obs. of  31 variables:\n",
      " $ Time  : num  0 0 1 1 2 2 4 7 7 9 ...\n",
      " $ V1    : num  -1.36 1.192 -1.358 -0.966 -1.158 ...\n",
      " $ V2    : num  -0.0728 0.2662 -1.3402 -0.1852 0.8777 ...\n",
      " $ V3    : num  2.536 0.166 1.773 1.793 1.549 ...\n",
      " $ V4    : num  1.378 0.448 0.38 -0.863 0.403 ...\n",
      " $ V5    : num  -0.3383 0.06 -0.5032 -0.0103 -0.4072 ...\n",
      " $ V6    : num  0.4624 -0.0824 1.8005 1.2472 0.0959 ...\n",
      " $ V7    : num  0.2396 -0.0788 0.7915 0.2376 0.5929 ...\n",
      " $ V8    : num  0.0987 0.0851 0.2477 0.3774 -0.2705 ...\n",
      " $ V9    : num  0.364 -0.255 -1.515 -1.387 0.818 ...\n",
      " $ V10   : num  0.0908 -0.167 0.2076 -0.055 0.7531 ...\n",
      " $ V11   : num  -0.552 1.613 0.625 -0.226 -0.823 ...\n",
      " $ V12   : num  -0.6178 1.0652 0.0661 0.1782 0.5382 ...\n",
      " $ V13   : num  -0.991 0.489 0.717 0.508 1.346 ...\n",
      " $ V14   : num  -0.311 -0.144 -0.166 -0.288 -1.12 ...\n",
      " $ V15   : num  1.468 0.636 2.346 -0.631 0.175 ...\n",
      " $ V16   : num  -0.47 0.464 -2.89 -1.06 -0.451 ...\n",
      " $ V17   : num  0.208 -0.115 1.11 -0.684 -0.237 ...\n",
      " $ V18   : num  0.0258 -0.1834 -0.1214 1.9658 -0.0382 ...\n",
      " $ V19   : num  0.404 -0.146 -2.262 -1.233 0.803 ...\n",
      " $ V20   : num  0.2514 -0.0691 0.525 -0.208 0.4085 ...\n",
      " $ V21   : num  -0.01831 -0.22578 0.248 -0.1083 -0.00943 ...\n",
      " $ V22   : num  0.27784 -0.63867 0.77168 0.00527 0.79828 ...\n",
      " $ V23   : num  -0.11 0.101 0.909 -0.19 -0.137 ...\n",
      " $ V24   : num  0.0669 -0.3398 -0.6893 -1.1756 0.1413 ...\n",
      " $ V25   : num  0.129 0.167 -0.328 0.647 -0.206 ...\n",
      " $ V26   : num  -0.189 0.126 -0.139 -0.222 0.502 ...\n",
      " $ V27   : num  0.13356 -0.00898 -0.05535 0.06272 0.21942 ...\n",
      " $ V28   : num  -0.0211 0.0147 -0.0598 0.0615 0.2152 ...\n",
      " $ Amount: num  149.62 2.69 378.66 123.5 69.99 ...\n",
      " $ Class : int  0 0 0 0 0 0 0 0 0 0 ...\n",
      "[1] \"Fraud =  492\"\n",
      "[1] \"Non Fraud =  284315\"\n",
      "\n",
      "\n",
      "\n",
      "\n",
      "\n",
      "\n",
      "\n",
      " Summary of Amount \n",
      "\n",
      "\n",
      "Now we are gonna plot the Amount variable to check for distribution\n",
      "\n"
     ]
    },
    {
     "data": {
      "image/png": "[encoded data removed]",
      "text/plain": [
       "plot without title"
      ]
     },
     "metadata": {
      "image/png": {
       "height": 420,
       "width": 420
      }
     },
     "output_type": "display_data"
    },
    {
     "name": "stdout",
     "output_type": "stream",
     "text": [
      "\n",
      "We see that the data is skewed towards left side, but we need a normalised data.\n",
      "\n"
     ]
    },
    {
     "name": "stderr",
     "output_type": "stream",
     "text": [
      "Warning message:\n",
      "\"\u001b[1m\u001b[22mTransformation introduced infinite values in continuous x-axis\"\n",
      "Warning message:\n",
      "\"\u001b[1m\u001b[22mRemoved 1825 rows containing non-finite values (`stat_bin()`).\"\n"
     ]
    },
    {
     "data": {
      "image/png": "[encoded data removed]",
      "text/plain": [
       "plot without title"
      ]
     },
     "metadata": {
      "image/png": {
       "height": 420,
       "width": 420
      }
     },
     "output_type": "display_data"
    },
    {
     "name": "stdout",
     "output_type": "stream",
     "text": [
      "\n",
      "Plot the data of Time distribution\n",
      "\n"
     ]
    },
    {
     "data": {
      "image/png": "[encoded data removed]",
      "text/plain": [
       "plot without title"
      ]
     },
     "metadata": {
      "image/png": {
       "height": 420,
       "width": 420
      }
     },
     "output_type": "display_data"
    },
    {
     "name": "stdout",
     "output_type": "stream",
     "text": [
      "\n",
      "Correlation Matrix\n",
      "\n",
      "\n",
      "\n",
      " Plotting the Graph Fraud against Amount\n"
     ]
    },
    {
     "name": "stderr",
     "output_type": "stream",
     "text": [
      "Warning message in geom_histogram(bin = DISCRETE_BINS):\n",
      "\"\u001b[1m\u001b[22mIgnoring unknown parameters: `bin`\"\n"
     ]
    },
    {
     "data": {
      "image/png": "[encoded data removed]",
      "text/plain": [
       "plot without title"
      ]
     },
     "metadata": {
      "image/png": {
       "height": 420,
       "width": 420
      }
     },
     "output_type": "display_data"
    },
    {
     "name": "stderr",
     "output_type": "stream",
     "text": [
      "\u001b[1m\u001b[22m`stat_bin()` using `bins = 30`. Pick better value with `binwidth`.\n"
     ]
    },
    {
     "name": "stdout",
     "output_type": "stream",
     "text": [
      "\n",
      "\n",
      " Plotting the Graph Non-Fraud against Amount\n"
     ]
    },
    {
     "name": "stderr",
     "output_type": "stream",
     "text": [
      "Warning message in geom_histogram(bin = DISCRETE_BINS):\n",
      "\"\u001b[1m\u001b[22mIgnoring unknown parameters: `bin`\"\n"
     ]
    },
    {
     "data": {
      "image/png": "[encoded data removed]",
      "text/plain": [
       "plot without title"
      ]
     },
     "metadata": {
      "image/png": {
       "height": 420,
       "width": 420
      }
     },
     "output_type": "display_data"
    },
    {
     "name": "stderr",
     "output_type": "stream",
     "text": [
      "\u001b[1m\u001b[22m`stat_bin()` using `bins = 30`. Pick better value with `binwidth`.\n"
     ]
    },
    {
     "data": {
      "image/png": "[encoded data removed]",
      "text/plain": [
       "plot without title"
      ]
     },
     "metadata": {
      "image/png": {
       "height": 420,
       "width": 420
      }
     },
     "output_type": "display_data"
    },
    {
     "name": "stdout",
     "output_type": "stream",
     "text": [
      "\n",
      "\n",
      " Plotting the Fraud Transactions against Amount\n"
     ]
    },
    {
     "data": {
      "image/png": "[encoded data removed]",
      "text/plain": [
       "plot without title"
      ]
     },
     "metadata": {
      "image/png": {
       "height": 420,
       "width": 420
      }
     },
     "output_type": "display_data"
    },
    {
     "name": "stdout",
     "output_type": "stream",
     "text": [
      "\n",
      "\n",
      " Plotting the Non-Fraud Transactions against Amount\n"
     ]
    },
    {
     "data": {
      "image/png": "[encoded data removed]",
      "text/plain": [
       "plot without title"
      ]
     },
     "metadata": {
      "image/png": {
       "height": 420,
       "width": 420
      }
     },
     "output_type": "display_data"
    },
    {
     "data": {
      "image/png": "[encoded data removed]",
      "text/plain": [
       "plot without title"
      ]
     },
     "metadata": {
      "image/png": {
       "height": 420,
       "width": 420
      }
     },
     "output_type": "display_data"
    }
   ],
   "source": [
    "writeLines(\"\\nEDA\\n\")\n",
    "#EDA\n",
    "mainEDA()\n"
   ]
  },
  {
   "cell_type": "code",
   "execution_count": 28,
   "id": "62fa7100",
   "metadata": {},
   "outputs": [
    {
     "name": "stdout",
     "output_type": "stream",
     "text": [
      "\n",
      "\n",
      "Total Number of Null Values =  0\n",
      "\n",
      "\n",
      "Total Number of Duplicate Rows Removed :  1081\n",
      "[1] \"proportions of variance:\"\n",
      " [1] 0.3792214568 0.0989406737 0.0692640489 0.0545701380 0.0512212376\n",
      " [6] 0.0404876073 0.0379242028 0.0360370770 0.0315578197 0.0280344675\n",
      "[11] 0.0272241987 0.0233297916 0.0203606428 0.0181517419 0.0147391684\n",
      "[16] 0.0132003101 0.0108819351 0.0087615711 0.0077439921 0.0057605841\n",
      "[21] 0.0050476900 0.0040767623 0.0027583326 0.0027364072 0.0020234505\n",
      "[26] 0.0018027140 0.0015313595 0.0013899609 0.0008783647 0.0003422930\n"
     ]
    },
    {
     "data": {
      "image/png": "[encoded data removed]",
      "text/plain": [
       "Plot with title \"x\""
      ]
     },
     "metadata": {
      "image/png": {
       "height": 420,
       "width": 420
      }
     },
     "output_type": "display_data"
    }
   ],
   "source": [
    "#Pre Processing\n",
    "mainPreProcessing()"
   ]
  },
  {
   "cell_type": "code",
   "execution_count": 29,
   "id": "e09db0ca",
   "metadata": {},
   "outputs": [
    {
     "name": "stderr",
     "output_type": "stream",
     "text": [
      "Warning message:\n",
      "\"glm.fit: fitted probabilities numerically 0 or 1 occurred\"\n",
      "Warning message:\n",
      "\"glm.fit: fitted probabilities numerically 0 or 1 occurred\"\n",
      "Warning message:\n",
      "\"glm.fit: fitted probabilities numerically 0 or 1 occurred\"\n",
      "Warning message:\n",
      "\"glm.fit: fitted probabilities numerically 0 or 1 occurred\"\n"
     ]
    },
    {
     "name": "stdout",
     "output_type": "stream",
     "text": [
      "\n",
      "Call:\n",
      "NULL\n",
      "\n",
      "Deviance Residuals: \n",
      "    Min       1Q   Median       3Q      Max  \n",
      "-7.2893  -0.5084   0.0000   0.0155   3.1161  \n",
      "\n",
      "Coefficients:\n",
      "             Estimate Std. Error z value Pr(>|z|)    \n",
      "(Intercept)  4.604311   0.035234  130.68   <2e-16 ***\n",
      "PC1         -2.891769   0.017138 -168.74   <2e-16 ***\n",
      "PC2          0.350742   0.010873   32.26   <2e-16 ***\n",
      "PC3          0.579604   0.010608   54.64   <2e-16 ***\n",
      "PC4         -0.594209   0.007607  -78.12   <2e-16 ***\n",
      "PC5          0.438842   0.008133   53.96   <2e-16 ***\n",
      "---\n",
      "Signif. codes:  0 '***' 0.001 '**' 0.01 '*' 0.05 '.' 0.1 ' ' 1\n",
      "\n",
      "(Dispersion parameter for binomial family taken to be 1)\n",
      "\n",
      "    Null deviance: 552103  on 398257  degrees of freedom\n",
      "Residual deviance: 187429  on 398252  degrees of freedom\n",
      "AIC: 187441\n",
      "\n",
      "Number of Fisher Scoring iterations: 9\n",
      "\n",
      "\n",
      "\n",
      " ROC-AUC -  Logistic Regression\n",
      "[1] 1\n",
      "\n",
      "\n",
      "Precision,Recall and F1-Score -  Logistic Regression\n",
      "[1] \"Precsion :  0.989359940382545\"\n",
      "[1] \"Recall :  0.839600876011571\"\n",
      "[1] \"F1-Score :  0.908349118461314\"\n",
      "\n",
      "\n",
      "Confusion Matrix -  Logistic Regression\n",
      "Confusion Matrix and Statistics\n",
      "\n",
      "          Reference\n",
      "Prediction     0     1\n",
      "         0 84523 13696\n",
      "         1   771 71691\n",
      "                                          \n",
      "               Accuracy : 0.9152          \n",
      "                 95% CI : (0.9139, 0.9166)\n",
      "    No Information Rate : 0.5003          \n",
      "    P-Value [Acc > NIR] : < 2.2e-16       \n",
      "                                          \n",
      "                  Kappa : 0.8305          \n",
      "                                          \n",
      " Mcnemar's Test P-Value : < 2.2e-16       \n",
      "                                          \n",
      "            Sensitivity : 0.8396          \n",
      "            Specificity : 0.9910          \n",
      "         Pos Pred Value : 0.9894          \n",
      "         Neg Pred Value : 0.8606          \n",
      "             Prevalence : 0.5003          \n",
      "         Detection Rate : 0.4200          \n",
      "   Detection Prevalence : 0.4245          \n",
      "      Balanced Accuracy : 0.9153          \n",
      "                                          \n",
      "       'Positive' Class : 1               \n",
      "                                          \n",
      "Call:\n",
      "rpart(formula = Class ~ ., data = train, method = \"class\", control = rpart.control(xval = 3))\n",
      "  n= 398258 \n",
      "\n",
      "         CP nsplit rel error    xerror         xstd\n",
      "1 0.8011516      0 1.0000000 1.0020802 0.0015854511\n",
      "2 0.0400410      1 0.1988484 0.1988484 0.0009486035\n",
      "3 0.0100000      2 0.1588074 0.1588124 0.0008571107\n",
      "\n",
      "Variable importance\n",
      "PC1 PC2 PC5 PC4 PC3 \n",
      " 45  23  16  11   5 \n",
      "\n",
      "Node number 1: 398258 observations,    complexity param=0.8011516\n",
      "  predicted class=1  expected loss=0.4997288  P(node) =1\n",
      "    class counts: 199021 199237\n",
      "   probabilities: 0.500 0.500 \n",
      "  left son=2 (238438 obs) right son=3 (159820 obs)\n",
      "  Primary splits:\n",
      "      PC1 < 0.7236772  to the right, improve=133063.600, (0 missing)\n",
      "      PC2 < 0.4430215  to the left,  improve= 55635.480, (0 missing)\n",
      "      PC5 < 0.6148468  to the left,  improve= 30829.830, (0 missing)\n",
      "      PC4 < -1.103044  to the right, improve= 23205.580, (0 missing)\n",
      "      PC3 < -0.8288378 to the right, improve=  8137.653, (0 missing)\n",
      "  Surrogate splits:\n",
      "      PC2 < 0.4453288  to the left,  agree=0.804, adj=0.511, (0 split)\n",
      "      PC5 < 0.5447386  to the left,  agree=0.745, adj=0.365, (0 split)\n",
      "      PC4 < -1.578489  to the right, agree=0.664, adj=0.162, (0 split)\n",
      "      PC3 < -0.8288378 to the right, agree=0.645, adj=0.115, (0 split)\n",
      "\n",
      "Node number 2: 238438 observations,    complexity param=0.040041\n",
      "  predicted class=0  expected loss=0.1656447  P(node) =0.5987023\n",
      "    class counts: 198942 39496\n",
      "   probabilities: 0.834 0.166 \n",
      "  left son=4 (219911 obs) right son=5 (18527 obs)\n",
      "  Primary splits:\n",
      "      PC4 < -1.109543  to the right, improve=12127.520, (0 missing)\n",
      "      PC3 < 0.658242   to the left,  improve= 4917.885, (0 missing)\n",
      "      PC2 < 0.3152861  to the left,  improve= 3083.233, (0 missing)\n",
      "      PC1 < 2.026037   to the right, improve= 2857.471, (0 missing)\n",
      "      PC5 < 1.263582   to the left,  improve= 1500.352, (0 missing)\n",
      "  Surrogate splits:\n",
      "      PC1 < 1.567501   to the right, agree=0.923, adj=0.013, (0 split)\n",
      "      PC3 < 0.6940721  to the left,  agree=0.922, adj=0.001, (0 split)\n",
      "      PC2 < -7.383404  to the right, agree=0.922, adj=0.001, (0 split)\n",
      "\n",
      "Node number 3: 159820 observations\n",
      "  predicted class=1  expected loss=0.0004943061  P(node) =0.4012977\n",
      "    class counts:    79 159741\n",
      "   probabilities: 0.000 1.000 \n",
      "\n",
      "Node number 4: 219911 observations\n",
      "  predicted class=0  expected loss=0.1193574  P(node) =0.5521823\n",
      "    class counts: 193663 26248\n",
      "   probabilities: 0.881 0.119 \n",
      "\n",
      "Node number 5: 18527 observations\n",
      "  predicted class=1  expected loss=0.2849355  P(node) =0.0465201\n",
      "    class counts:  5279 13248\n",
      "   probabilities: 0.285 0.715 \n",
      "\n",
      "n= 398258 \n",
      "\n",
      "node), split, n, loss, yval, (yprob)\n",
      "      * denotes terminal node\n",
      "\n",
      "1) root 398258 199021 1 (0.4997288190 0.5002711810)  \n",
      "  2) PC1>=0.7236772 238438  39496 0 (0.8343552622 0.1656447378)  \n",
      "    4) PC4>=-1.109543 219911  26248 0 (0.8806426236 0.1193573764) *\n",
      "    5) PC4< -1.109543 18527   5279 1 (0.2849354995 0.7150645005) *\n",
      "  3) PC1< 0.7236772 159820     79 1 (0.0004943061 0.9995056939) *\n",
      "\n",
      "\n",
      " ROC-AUC -  Decisition Tree\n"
     ]
    },
    {
     "data": {
      "image/png": "[encoded data removed]",
      "text/plain": [
       "Plot with title \"PR curve\n",
       "AUC = 0.9630092\""
      ]
     },
     "metadata": {
      "image/png": {
       "height": 420,
       "width": 420
      }
     },
     "output_type": "display_data"
    },
    {
     "name": "stdout",
     "output_type": "stream",
     "text": [
      "[1] 1\n",
      "\n",
      "\n",
      "Precision,Recall and F1-Score -  Decisition Tree\n",
      "[1] \"Precsion :  0.969069733928969\"\n",
      "[1] \"Recall :  0.866314544368581\"\n",
      "[1] \"F1-Score :  0.914815730892901\"\n",
      "\n",
      "\n",
      "Confusion Matrix -  Decisition Tree\n",
      "Confusion Matrix and Statistics\n",
      "\n",
      "          Reference\n",
      "Prediction     0     1\n",
      "         0 82933 11415\n",
      "         1  2361 73972\n",
      "                                         \n",
      "               Accuracy : 0.9193         \n",
      "                 95% CI : (0.918, 0.9206)\n",
      "    No Information Rate : 0.5003         \n",
      "    P-Value [Acc > NIR] : < 2.2e-16      \n",
      "                                         \n",
      "                  Kappa : 0.8386         \n",
      "                                         \n",
      " Mcnemar's Test P-Value : < 2.2e-16      \n",
      "                                         \n",
      "            Sensitivity : 0.8663         \n",
      "            Specificity : 0.9723         \n",
      "         Pos Pred Value : 0.9691         \n",
      "         Neg Pred Value : 0.8790         \n",
      "             Prevalence : 0.5003         \n",
      "         Detection Rate : 0.4334         \n",
      "   Detection Prevalence : 0.4472         \n",
      "      Balanced Accuracy : 0.9193         \n",
      "                                         \n",
      "       'Positive' Class : 1              \n",
      "                                         \n"
     ]
    },
    {
     "data": {
      "image/png": "[encoded data removed]",
      "text/plain": [
       "Plot with title \"PR curve\n",
       "AUC = 0.9295062\""
      ]
     },
     "metadata": {
      "image/png": {
       "height": 420,
       "width": 420
      }
     },
     "output_type": "display_data"
    }
   ],
   "source": [
    "#Model Preparation and Results\n",
    "mainModeling()\n"
   ]
  },
  {
   "cell_type": "code",
   "execution_count": null,
   "id": "5605377e",
   "metadata": {},
   "outputs": [],
   "source": [
    "# **************************************************\n",
    "# End of Notebook \n",
    "# **************************************************"
   ]
  }
 ],
 "metadata": {
  "celltoolbar": "Raw Cell Format",
  "kernelspec": {
   "display_name": "R",
   "language": "R",
   "name": "ir"
  },
  "language_info": {
   "codemirror_mode": "r",
   "file_extension": ".r",
   "mimetype": "text/x-r-source",
   "name": "R",
   "pygments_lexer": "r",
   "version": "4.2.1"
  }
 },
 "nbformat": 4,
 "nbformat_minor": 5
}
